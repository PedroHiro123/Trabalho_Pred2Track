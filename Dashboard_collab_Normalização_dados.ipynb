{
  "nbformat": 4,
  "nbformat_minor": 0,
  "metadata": {
    "colab": {
      "provenance": [],
      "authorship_tag": "ABX9TyNFkXpeSn/1ApfxJuSGw++o",
      "include_colab_link": true
    },
    "kernelspec": {
      "name": "python3",
      "display_name": "Python 3"
    },
    "language_info": {
      "name": "python"
    }
  },
  "cells": [
    {
      "cell_type": "markdown",
      "metadata": {
        "id": "view-in-github",
        "colab_type": "text"
      },
      "source": [
        "<a href=\"https://colab.research.google.com/github/PedroHiro123/Trabalho_Pred2Track/blob/main/Dashboard_collab_Normaliza%C3%A7%C3%A3o_dados.ipynb\" target=\"_parent\"><img src=\"https://colab.research.google.com/assets/colab-badge.svg\" alt=\"Open In Colab\"/></a>"
      ]
    },
    {
      "cell_type": "code",
      "execution_count": null,
      "metadata": {
        "id": "W2EbcFeFZ7Iq"
      },
      "outputs": [],
      "source": [
        "# Importar bibliotecas\n",
        "!pip install streamlit pandas scikit-learn matplotlib seaborn ngrok plotly -q"
      ]
    },
    {
      "cell_type": "code",
      "source": [
        "# Instalar ngrok\n",
        "!pip install pyngrok -q"
      ],
      "metadata": {
        "id": "KS8hd0RaeWDV"
      },
      "execution_count": null,
      "outputs": []
    },
    {
      "cell_type": "code",
      "source": [
        "#ngrok authtoken\n",
        "from pyngrok import ngrok\n",
        "\n",
        "ngrok.set_auth_token(\"32fC9v0ZoeGXloMgEvNOfj7xHzb_6csCZ9keAKtTLpnEFwfoA\")"
      ],
      "metadata": {
        "id": "0JCzw0khea7r"
      },
      "execution_count": null,
      "outputs": []
    },
    {
      "cell_type": "code",
      "source": [
        "#1 - Montar o Google Drive\n",
        "from google.colab import drive\n",
        "print(\"Conectando ao Google Drive...\")\n",
        "drive.mount('/content/drive')\n",
        "print(\" Conectado!\\n\")"
      ],
      "metadata": {
        "colab": {
          "base_uri": "https://localhost:8080/"
        },
        "id": "OMYfo2RtedDV",
        "outputId": "59e75df2-dec3-4f3a-f685-80c136992bfc"
      },
      "execution_count": null,
      "outputs": [
        {
          "output_type": "stream",
          "name": "stdout",
          "text": [
            "Conectando ao Google Drive...\n",
            "Drive already mounted at /content/drive; to attempt to forcibly remount, call drive.mount(\"/content/drive\", force_remount=True).\n",
            " Conectado!\n",
            "\n"
          ]
        }
      ]
    },
    {
      "cell_type": "code",
      "source": [
        "#2 - Verificar se o CSV existe\n",
        "import os\n",
        "csv_path = '/content/drive/MyDrive/dados-CLICKBUS/df_t_MODIFICADO.csv'\n",
        "\n",
        "if not os.path.exists(csv_path):\n",
        "    raise FileNotFoundError(f\"❌ Arquivo não encontrado: {csv_path}\\n Coloque o CSV na pasta 'dados_clickbus' do seu Drive.\")\n",
        "else:\n",
        "    print(f\" Dados encontrados: {csv_path}\")"
      ],
      "metadata": {
        "colab": {
          "base_uri": "https://localhost:8080/"
        },
        "id": "GM5uXXZxefAZ",
        "outputId": "b3e72f59-91c7-43d4-afad-09c1ea0c9e80"
      },
      "execution_count": null,
      "outputs": [
        {
          "output_type": "stream",
          "name": "stdout",
          "text": [
            " Dados encontrados: /content/drive/MyDrive/dados-CLICKBUS/df_t_MODIFICADO.csv\n"
          ]
        }
      ]
    },
    {
      "cell_type": "code",
      "source": [
        "#3 - Baixar o script do GitHub\n",
        "import requests\n",
        "url = \"https://raw.githubusercontent.com/PedroHiro123/Trabalho_Pred2Track/main/CLICKBUS_Dashboard_Est-Normaliz_Dados.py\"\n",
        "response = requests.get(url)\n",
        "with open(\"dashboard.py\", \"w\", encoding=\"utf-8\") as f:\n",
        "    f.write(response.text)"
      ],
      "metadata": {
        "id": "qHYkD8aseki5"
      },
      "execution_count": null,
      "outputs": []
    },
    {
      "cell_type": "code",
      "source": [
        "#4 - Executar o Streamlit em segundo plano\n",
        "get_ipython().system('nohup streamlit run dashboard.py --server.port=8501 --server.address=0.0.0.0 > streamlit.log 2>&1 &')\n",
        "print(\"Streamlit iniciado em segundo plano. Verifique o arquivo 'streamlit.log' para a saída.\")"
      ],
      "metadata": {
        "colab": {
          "base_uri": "https://localhost:8080/"
        },
        "id": "tLcYQ_WeemoR",
        "outputId": "07875cf2-1abf-4480-cddf-c9d56e62e9d2"
      },
      "execution_count": null,
      "outputs": [
        {
          "output_type": "stream",
          "name": "stdout",
          "text": [
            "Streamlit iniciado em segundo plano. Verifique o arquivo 'streamlit.log' para a saída.\n"
          ]
        }
      ]
    },
    {
      "cell_type": "code",
      "source": [
        "# Iniciar o túnel ngrok\n",
        "from pyngrok import ngrok\n",
        "import os\n",
        "\n",
        "public_url = ngrok.connect(8501)\n",
        "print(f\"Túnel ngrok criado. Acesse o dashboard aqui: {public_url}\")\n",
        "\n",
        "# Mantenha esta célula em execução para manter o túnel ativo.\n",
        "# Para parar o túnel, interrompa a execução desta célula."
      ],
      "metadata": {
        "colab": {
          "base_uri": "https://localhost:8080/"
        },
        "id": "7Y5BnKTSeoRk",
        "outputId": "ddfc97a4-c18e-4cff-9b6b-6b26e571314d"
      },
      "execution_count": null,
      "outputs": [
        {
          "output_type": "stream",
          "name": "stdout",
          "text": [
            "Túnel ngrok criado. Acesse o dashboard aqui: NgrokTunnel: \"https://700eb6bfac80.ngrok-free.app\" -> \"http://localhost:8501\"\n"
          ]
        }
      ]
    }
  ]
}