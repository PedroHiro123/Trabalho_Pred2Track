{
  "nbformat": 4,
  "nbformat_minor": 0,
  "metadata": {
    "colab": {
      "provenance": [],
      "authorship_tag": "ABX9TyMDyVPmN6E0ngLjvA9XWXmW",
      "include_colab_link": true
    },
    "kernelspec": {
      "name": "python3",
      "display_name": "Python 3"
    },
    "language_info": {
      "name": "python"
    }
  },
  "cells": [
    {
      "cell_type": "markdown",
      "metadata": {
        "id": "view-in-github",
        "colab_type": "text"
      },
      "source": [
        "<a href=\"https://colab.research.google.com/github/PedroHiro123/Trabalho_Pred2Track/blob/main/Dashboard_collab_SEG_CLI_v1.ipynb\" target=\"_parent\"><img src=\"https://colab.research.google.com/assets/colab-badge.svg\" alt=\"Open In Colab\"/></a>"
      ]
    },
    {
      "cell_type": "code",
      "source": [
        "# Importar bibliotecas\n",
        "!pip install streamlit pandas scikit-learn matplotlib seaborn ngrok plotly -q\n",
        "!pip install gdown -q"
      ],
      "metadata": {
        "id": "zOTzHjRAAt_A"
      },
      "execution_count": 1,
      "outputs": []
    },
    {
      "cell_type": "code",
      "metadata": {
        "id": "5ecbe4d1"
      },
      "source": [
        "# Instalar ngrok\n",
        "!pip install pyngrok -q"
      ],
      "execution_count": 2,
      "outputs": []
    },
    {
      "cell_type": "code",
      "source": [
        "#ngrok authtoken\n",
        "from pyngrok import ngrok\n",
        "\n",
        "ngrok.set_auth_token(\"32fC9v0ZoeGXloMgEvNOfj7xHzb_6csCZ9keAKtTLpnEFwfoA\")"
      ],
      "metadata": {
        "id": "H_N8DsjRi_N2"
      },
      "execution_count": 3,
      "outputs": []
    },
    {
      "cell_type": "code",
      "execution_count": 4,
      "metadata": {
        "colab": {
          "base_uri": "https://localhost:8080/"
        },
        "id": "Sq7PvhPmAG0r",
        "outputId": "209aa410-4861-4092-d570-6393a67e7313"
      },
      "outputs": [
        {
          "output_type": "stream",
          "name": "stdout",
          "text": [
            " Baixando dados do Google Drive...\n",
            "/usr/local/lib/python3.12/dist-packages/gdown/__main__.py:140: FutureWarning: Option `--id` was deprecated in version 4.3.1 and will be removed in 5.0. You don't need to pass it anymore to use a file ID.\n",
            "  warnings.warn(\n",
            "Downloading...\n",
            "From (original): https://drive.google.com/uc?id=1-m-AWpCYPi1_pZIDWzDaCJw6EyFoCewy\n",
            "From (redirected): https://drive.google.com/uc?id=1-m-AWpCYPi1_pZIDWzDaCJw6EyFoCewy&confirm=t&uuid=8b9ac926-07fa-4457-8c4d-0f524296ef1e\n",
            "To: /content/df_t_MODIFICADO.csv\n",
            "100% 152M/152M [00:00<00:00, 182MB/s]\n",
            "/usr/local/lib/python3.12/dist-packages/gdown/__main__.py:140: FutureWarning: Option `--id` was deprecated in version 4.3.1 and will be removed in 5.0. You don't need to pass it anymore to use a file ID.\n",
            "  warnings.warn(\n",
            "Downloading...\n",
            "From: https://drive.google.com/uc?id=1Es5eWXieu1P_oCdUTqz1JG79kvbpzpcc\n",
            "To: /content/ClickBus_logo.png\n",
            "100% 10.7k/10.7k [00:00<00:00, 23.9MB/s]\n",
            " Dados baixados!\n",
            "\n"
          ]
        }
      ],
      "source": [
        "#1 - Baixar o CSV automaticamente\n",
        "print(\" Baixando dados do Google Drive...\")\n",
        "!gdown --id 1-m-AWpCYPi1_pZIDWzDaCJw6EyFoCewy\n",
        "!gdown --id 1Es5eWXieu1P_oCdUTqz1JG79kvbpzpcc\n",
        "\n",
        "print(\" Dados baixados!\\n\")"
      ]
    },
    {
      "cell_type": "code",
      "source": [
        "#2 - Verificar os dados\n",
        "import pandas as pd\n",
        "try:\n",
        "    df = pd.read_csv('df_t_MODIFICADO.csv')\n",
        "    print(f\"Dataset carregado: {df.shape[0]} linhas × {df.shape[1]} colunas\")\n",
        "except Exception as e:\n",
        "    print(f\"Erro ao ler o CSV: {e}\")\n",
        "    raise"
      ],
      "metadata": {
        "colab": {
          "base_uri": "https://localhost:8080/"
        },
        "id": "ob-iDuy7AVqw",
        "outputId": "899ff695-e1bb-4559-ff4b-67c79762626a"
      },
      "execution_count": 5,
      "outputs": [
        {
          "output_type": "stream",
          "name": "stdout",
          "text": [
            "Dataset carregado: 1741344 linhas × 12 colunas\n"
          ]
        }
      ]
    },
    {
      "cell_type": "code",
      "source": [
        "#3 - Baixar o script do GitHub\n",
        "import requests\n",
        "url = \"https://raw.githubusercontent.com/PedroHiro123/Trabalho_Pred2Track/main/CLICKBUS_Dashboard_Est-Normaliz_Dados.py\"\n",
        "response = requests.get(url)\n",
        "if response.status_code == 200:\n",
        "    with open(\"dashboard.py\", \"w\", encoding=\"utf-8\") as f:\n",
        "        f.write(response.text)\n",
        "    print(\"Código do dashboard baixado!\")\n",
        "else:\n",
        "    print(f\"Falha ao baixar o código (status: {response.status_code})\")\n",
        "    raise Exception(\"Não foi possível baixar o arquivo .py do GitHub\")"
      ],
      "metadata": {
        "id": "LTETHU-SAXDW",
        "outputId": "661300e3-8076-4a7d-e432-b65c72e8c338",
        "colab": {
          "base_uri": "https://localhost:8080/"
        }
      },
      "execution_count": 6,
      "outputs": [
        {
          "output_type": "stream",
          "name": "stdout",
          "text": [
            "Código do dashboard baixado!\n"
          ]
        }
      ]
    },
    {
      "cell_type": "code",
      "source": [
        "#4 - Executar o Streamlit em segundo plano\n",
        "get_ipython().system('nohup streamlit run dashboard.py --server.port=8501 --server.address=0.0.0.0 > streamlit.log 2>&1 &')\n",
        "print(\"Streamlit iniciado em segundo plano. Verifique o arquivo 'streamlit.log' para a saída.\")"
      ],
      "metadata": {
        "colab": {
          "base_uri": "https://localhost:8080/"
        },
        "id": "nGeWo52zAYUa",
        "outputId": "0848f719-fb9b-44ea-beaf-5e1009e979e3"
      },
      "execution_count": 7,
      "outputs": [
        {
          "output_type": "stream",
          "name": "stdout",
          "text": [
            "Streamlit iniciado em segundo plano. Verifique o arquivo 'streamlit.log' para a saída.\n"
          ]
        }
      ]
    },
    {
      "cell_type": "code",
      "source": [
        "# Iniciar o túnel ngrok\n",
        "from pyngrok import ngrok\n",
        "import os\n",
        "\n",
        "public_url = ngrok.connect(8501)\n",
        "print(f\"Túnel ngrok criado. Acesse o dashboard aqui: {public_url}\")\n",
        "\n",
        "# Mantenha esta célula em execução para manter o túnel ativo.\n",
        "# Para parar o túnel, interrompa a execução desta célula."
      ],
      "metadata": {
        "colab": {
          "base_uri": "https://localhost:8080/"
        },
        "id": "rEVcC3uUOZtQ",
        "outputId": "c3ede629-e37a-446c-bc66-8c2eac3ce832"
      },
      "execution_count": 9,
      "outputs": [
        {
          "output_type": "stream",
          "name": "stdout",
          "text": [
            "Túnel ngrok criado. Acesse o dashboard aqui: NgrokTunnel: \"https://b32ce7fb04f2.ngrok-free.app\" -> \"http://localhost:8501\"\n"
          ]
        }
      ]
    }
  ]
}