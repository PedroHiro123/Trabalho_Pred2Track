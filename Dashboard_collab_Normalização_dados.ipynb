{
  "nbformat": 4,
  "nbformat_minor": 0,
  "metadata": {
    "colab": {
      "provenance": [],
      "authorship_tag": "ABX9TyMDyVPmN6E0ngLjvA9XWXmW",
      "include_colab_link": true
    },
    "kernelspec": {
      "name": "python3",
      "display_name": "Python 3"
    },
    "language_info": {
      "name": "python"
    }
  },
  "cells": [
    {
      "cell_type": "markdown",
      "metadata": {
        "id": "view-in-github",
        "colab_type": "text"
      },
      "source": [
        "<a href=\"https://colab.research.google.com/github/PedroHiro123/Trabalho_Pred2Track/blob/main/Dashboard_collab_Normaliza%C3%A7%C3%A3o_dados.ipynb\" target=\"_parent\"><img src=\"https://colab.research.google.com/assets/colab-badge.svg\" alt=\"Open In Colab\"/></a>"
      ]
    },
    {
      "cell_type": "code",
      "execution_count": 1,
      "metadata": {
        "id": "W2EbcFeFZ7Iq"
      },
      "outputs": [],
      "source": [
        "# Importar bibliotecas\n",
        "!pip install streamlit pandas scikit-learn matplotlib seaborn ngrok plotly -q\n",
        "!pip install gdown -q"
      ]
    },
    {
      "cell_type": "code",
      "source": [
        "# Instalar ngrok\n",
        "!pip install pyngrok -q"
      ],
      "metadata": {
        "id": "KS8hd0RaeWDV"
      },
      "execution_count": 2,
      "outputs": []
    },
    {
      "cell_type": "code",
      "source": [
        "#ngrok authtoken\n",
        "from pyngrok import ngrok\n",
        "\n",
        "ngrok.set_auth_token(\"32fC9v0ZoeGXloMgEvNOfj7xHzb_6csCZ9keAKtTLpnEFwfoA\")"
      ],
      "metadata": {
        "id": "0JCzw0khea7r"
      },
      "execution_count": 3,
      "outputs": []
    },
    {
      "cell_type": "code",
      "source": [
        "#1 - Baixar o CSV automaticamente\n",
        "print(\" Baixando dados do Google Drive...\")\n",
        "!gdown --id 1-m-AWpCYPi1_pZIDWzDaCJw6EyFoCewy\n",
        "!gdown --id 1Es5eWXieu1P_oCdUTqz1JG79kvbpzpcc\n",
        "\n",
        "print(\" Dados baixados!\\n\")"
      ],
      "metadata": {
        "colab": {
          "base_uri": "https://localhost:8080/"
        },
        "id": "OMYfo2RtedDV",
        "outputId": "b16c7e89-16ee-40d3-fdbe-8b1104e263f6"
      },
      "execution_count": 4,
      "outputs": [
        {
          "output_type": "stream",
          "name": "stdout",
          "text": [
            " Baixando dados do Google Drive...\n",
            "/usr/local/lib/python3.12/dist-packages/gdown/__main__.py:140: FutureWarning: Option `--id` was deprecated in version 4.3.1 and will be removed in 5.0. You don't need to pass it anymore to use a file ID.\n",
            "  warnings.warn(\n",
            "Downloading...\n",
            "From (original): https://drive.google.com/uc?id=1-m-AWpCYPi1_pZIDWzDaCJw6EyFoCewy\n",
            "From (redirected): https://drive.google.com/uc?id=1-m-AWpCYPi1_pZIDWzDaCJw6EyFoCewy&confirm=t&uuid=57a962ac-073f-49bf-a3a4-1cb1b9342a9c\n",
            "To: /content/df_t_MODIFICADO.csv\n",
            "100% 152M/152M [00:01<00:00, 110MB/s]\n",
            "/usr/local/lib/python3.12/dist-packages/gdown/__main__.py:140: FutureWarning: Option `--id` was deprecated in version 4.3.1 and will be removed in 5.0. You don't need to pass it anymore to use a file ID.\n",
            "  warnings.warn(\n",
            "Downloading...\n",
            "From: https://drive.google.com/uc?id=1Es5eWXieu1P_oCdUTqz1JG79kvbpzpcc\n",
            "To: /content/ClickBus_logo.png\n",
            "100% 10.7k/10.7k [00:00<00:00, 22.7MB/s]\n",
            " Dados baixados!\n",
            "\n"
          ]
        }
      ]
    },
    {
      "cell_type": "code",
      "source": [
        "#2 - Verificar os dados\n",
        "import pandas as pd\n",
        "try:\n",
        "    df = pd.read_csv('df_t_MODIFICADO.csv')\n",
        "    print(f\"Dataset carregado: {df.shape[0]} linhas × {df.shape[1]} colunas\")\n",
        "except Exception as e:\n",
        "    print(f\"Erro ao ler o CSV: {e}\")\n",
        "    raise"
      ],
      "metadata": {
        "colab": {
          "base_uri": "https://localhost:8080/"
        },
        "id": "g1nIzPJ4AQh9",
        "outputId": "c4278499-fa6b-4f1f-b7d1-e91a4aa54b32"
      },
      "execution_count": 5,
      "outputs": [
        {
          "output_type": "stream",
          "name": "stdout",
          "text": [
            "Dataset carregado: 1741344 linhas × 12 colunas\n"
          ]
        }
      ]
    },
    {
      "cell_type": "code",
      "source": [
        "#3 - Baixar o script do GitHub\n",
        "import requests\n",
        "url = \"https://raw.githubusercontent.com/PedroHiro123/Trabalho_Pred2Track/main/CLICKBUS_Dashboard_Est-Normaliz_Dados.py\"\n",
        "response = requests.get(url)\n",
        "if response.status_code == 200:\n",
        "    with open(\"dashboard.py\", \"w\", encoding=\"utf-8\") as f:\n",
        "        f.write(response.text)\n",
        "    print(\"Código do dashboard baixado!\")\n",
        "else:\n",
        "    print(f\"Falha ao baixar o código (status: {response.status_code})\")\n",
        "    raise Exception(\"Não foi possível baixar o arquivo .py do GitHub\")"
      ],
      "metadata": {
        "id": "qHYkD8aseki5",
        "colab": {
          "base_uri": "https://localhost:8080/"
        },
        "outputId": "7a2402c3-ab20-4a85-a198-943ffb70e521"
      },
      "execution_count": 6,
      "outputs": [
        {
          "output_type": "stream",
          "name": "stdout",
          "text": [
            "Código do dashboard baixado!\n"
          ]
        }
      ]
    },
    {
      "cell_type": "code",
      "source": [
        "#4 - Executar o Streamlit em segundo plano\n",
        "get_ipython().system('nohup streamlit run dashboard.py --server.port=8501 --server.address=0.0.0.0 > streamlit.log 2>&1 &')\n",
        "print(\"Streamlit iniciado em segundo plano. Verifique o arquivo 'streamlit.log' para a saída.\")"
      ],
      "metadata": {
        "colab": {
          "base_uri": "https://localhost:8080/"
        },
        "id": "tLcYQ_WeemoR",
        "outputId": "a179ff94-8998-4781-f732-0c382d28efa1"
      },
      "execution_count": 7,
      "outputs": [
        {
          "output_type": "stream",
          "name": "stdout",
          "text": [
            "Streamlit iniciado em segundo plano. Verifique o arquivo 'streamlit.log' para a saída.\n"
          ]
        }
      ]
    },
    {
      "cell_type": "code",
      "source": [
        "# Iniciar o túnel ngrok\n",
        "from pyngrok import ngrok\n",
        "import os\n",
        "\n",
        "public_url = ngrok.connect(8501)\n",
        "print(f\"Túnel ngrok criado. Acesse o dashboard aqui: {public_url}\")\n",
        "\n",
        "# Mantenha esta célula em execução para manter o túnel ativo.\n",
        "# Para parar o túnel, interrompa a execução desta célula."
      ],
      "metadata": {
        "colab": {
          "base_uri": "https://localhost:8080/"
        },
        "id": "7Y5BnKTSeoRk",
        "outputId": "d56292bc-3670-4765-e100-d11ea4dc262e"
      },
      "execution_count": 8,
      "outputs": [
        {
          "output_type": "stream",
          "name": "stdout",
          "text": [
            "Túnel ngrok criado. Acesse o dashboard aqui: NgrokTunnel: \"https://110db1fa1e8b.ngrok-free.app\" -> \"http://localhost:8501\"\n"
          ]
        }
      ]
    }
  ]
}