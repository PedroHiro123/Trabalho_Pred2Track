{
  "nbformat": 4,
  "nbformat_minor": 0,
  "metadata": {
    "colab": {
      "provenance": [],
      "authorship_tag": "ABX9TyPq4zxdsgoqTVj9eH/bFe2K",
      "include_colab_link": true
    },
    "kernelspec": {
      "name": "python3",
      "display_name": "Python 3"
    },
    "language_info": {
      "name": "python"
    }
  },
  "cells": [
    {
      "cell_type": "markdown",
      "metadata": {
        "id": "view-in-github",
        "colab_type": "text"
      },
      "source": [
        "<a href=\"https://colab.research.google.com/github/PedroHiro123/Trabalho_Pred2Track/blob/main/Dashboard_collab_PREV_COMPRA_v1.ipynb\" target=\"_parent\"><img src=\"https://colab.research.google.com/assets/colab-badge.svg\" alt=\"Open In Colab\"/></a>"
      ]
    },
    {
      "cell_type": "code",
      "execution_count": null,
      "metadata": {
        "id": "nNXp-Fc-Z6_7"
      },
      "outputs": [],
      "source": [
        "# Importar bibliotecas\n",
        "!pip install streamlit pandas scikit-learn matplotlib seaborn ngrok plotly -q"
      ]
    },
    {
      "cell_type": "code",
      "source": [
        "# Instalar ngrok\n",
        "!pip install pyngrok -q"
      ],
      "metadata": {
        "id": "CrrBkn0PaDg2"
      },
      "execution_count": null,
      "outputs": []
    },
    {
      "cell_type": "code",
      "source": [
        "#ngrok authtoken\n",
        "from pyngrok import ngrok\n",
        "\n",
        "ngrok.set_auth_token(\"32fC9v0ZoeGXloMgEvNOfj7xHzb_6csCZ9keAKtTLpnEFwfoA\")"
      ],
      "metadata": {
        "id": "j6sWolYAcmvL"
      },
      "execution_count": null,
      "outputs": []
    },
    {
      "cell_type": "code",
      "source": [
        "#1 - Montar o Google Drive\n",
        "from google.colab import drive\n",
        "print(\"Conectando ao Google Drive...\")\n",
        "drive.mount('/content/drive')\n",
        "print(\" Conectado!\\n\")"
      ],
      "metadata": {
        "colab": {
          "base_uri": "https://localhost:8080/"
        },
        "id": "b9HVng6naImm",
        "outputId": "8ee0ceab-d6bf-40de-a0e9-85c39ac3da8f"
      },
      "execution_count": null,
      "outputs": [
        {
          "output_type": "stream",
          "name": "stdout",
          "text": [
            "Conectando ao Google Drive...\n",
            "Drive already mounted at /content/drive; to attempt to forcibly remount, call drive.mount(\"/content/drive\", force_remount=True).\n",
            " Conectado!\n",
            "\n"
          ]
        }
      ]
    },
    {
      "cell_type": "code",
      "source": [
        "#2 - Verificar se o CSV existe\n",
        "import os\n",
        "csv_path = '/content/drive/MyDrive/dados-CLICKBUS/df_t_MODIFICADO.csv'\n",
        "\n",
        "if not os.path.exists(csv_path):\n",
        "    raise FileNotFoundError(f\" Arquivo não encontrado: {csv_path}\\n Coloque o CSV na pasta 'dados_clickbus' do seu Drive.\")\n",
        "else:\n",
        "    print(f\" Dados encontrados: {csv_path}\")"
      ],
      "metadata": {
        "colab": {
          "base_uri": "https://localhost:8080/"
        },
        "id": "AU42A-aHaLTy",
        "outputId": "e544f7ed-a5c2-4b72-8970-b36c81960722"
      },
      "execution_count": null,
      "outputs": [
        {
          "output_type": "stream",
          "name": "stdout",
          "text": [
            " Dados encontrados: /content/drive/MyDrive/dados-CLICKBUS/df_t_MODIFICADO.csv\n"
          ]
        }
      ]
    },
    {
      "cell_type": "code",
      "source": [
        "#3 - Baixar o script do GitHub\n",
        "import requests\n",
        "url = \"https://raw.githubusercontent.com/PedroHiro123/Trabalho_Pred2Track/main/CLICKBUS_Dashboard_PREV_COMPRA_v1.py\"\n",
        "response = requests.get(url)\n",
        "with open(\"dashboard.py\", \"w\", encoding=\"utf-8\") as f:\n",
        "    f.write(response.text)"
      ],
      "metadata": {
        "id": "WF6OSxVnae9F"
      },
      "execution_count": null,
      "outputs": []
    },
    {
      "cell_type": "code",
      "source": [
        "#4 - Executar o Streamlit em segundo plano\n",
        "get_ipython().system('nohup streamlit run dashboard.py --server.port=8501 --server.address=0.0.0.0 > streamlit.log 2>&1 &')\n",
        "print(\"Streamlit iniciado em segundo plano. Verifique o arquivo 'streamlit.log' para a saída.\")"
      ],
      "metadata": {
        "colab": {
          "base_uri": "https://localhost:8080/"
        },
        "id": "mr46pAyDahkk",
        "outputId": "63c939e1-c9a0-497d-c203-cde461151868"
      },
      "execution_count": null,
      "outputs": [
        {
          "output_type": "stream",
          "name": "stdout",
          "text": [
            "Streamlit iniciado em segundo plano. Verifique o arquivo 'streamlit.log' para a saída.\n"
          ]
        }
      ]
    },
    {
      "cell_type": "code",
      "source": [
        "# Iniciar o túnel ngrok\n",
        "from pyngrok import ngrok\n",
        "import os\n",
        "\n",
        "public_url = ngrok.connect(8501)\n",
        "print(f\"Túnel ngrok criado. Acesse o dashboard aqui: {public_url}\")\n",
        "\n",
        "# Mantenha esta célula em execução para manter o túnel ativo.\n",
        "# Para parar o túnel, interrompa a execução desta célula."
      ],
      "metadata": {
        "colab": {
          "base_uri": "https://localhost:8080/"
        },
        "id": "T2bQ5zg1aiZO",
        "outputId": "868e7cea-d7ad-45ba-a208-c6b74a76678a"
      },
      "execution_count": null,
      "outputs": [
        {
          "output_type": "stream",
          "name": "stdout",
          "text": [
            "Túnel ngrok criado. Acesse o dashboard aqui: NgrokTunnel: \"https://3cc9589d0820.ngrok-free.app\" -> \"http://localhost:8501\"\n"
          ]
        }
      ]
    }
  ]
}