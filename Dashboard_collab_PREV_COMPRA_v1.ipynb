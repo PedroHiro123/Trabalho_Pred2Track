{
  "nbformat": 4,
  "nbformat_minor": 0,
  "metadata": {
    "colab": {
      "provenance": [],
      "authorship_tag": "ABX9TyO1JReqYxnrUy6FTfLDgBh0",
      "include_colab_link": true
    },
    "kernelspec": {
      "name": "python3",
      "display_name": "Python 3"
    },
    "language_info": {
      "name": "python"
    }
  },
  "cells": [
    {
      "cell_type": "markdown",
      "metadata": {
        "id": "view-in-github",
        "colab_type": "text"
      },
      "source": [
        "<a href=\"https://colab.research.google.com/github/PedroHiro123/Trabalho_Pred2Track/blob/main/Dashboard_collab_PREV_COMPRA_v1.ipynb\" target=\"_parent\"><img src=\"https://colab.research.google.com/assets/colab-badge.svg\" alt=\"Open In Colab\"/></a>"
      ]
    },
    {
      "cell_type": "code",
      "execution_count": 1,
      "metadata": {
        "id": "nNXp-Fc-Z6_7",
        "outputId": "ad9bf01e-6331-46cf-8a87-213f6835455a",
        "colab": {
          "base_uri": "https://localhost:8080/"
        }
      },
      "outputs": [
        {
          "output_type": "stream",
          "name": "stdout",
          "text": [
            "\u001b[2K   \u001b[90m━━━━━━━━━━━━━━━━━━━━━━━━━━━━━━━━━━━━━━━━\u001b[0m \u001b[32m10.0/10.0 MB\u001b[0m \u001b[31m22.5 MB/s\u001b[0m eta \u001b[36m0:00:00\u001b[0m\n",
            "\u001b[2K   \u001b[90m━━━━━━━━━━━━━━━━━━━━━━━━━━━━━━━━━━━━━━━━\u001b[0m \u001b[32m3.8/3.8 MB\u001b[0m \u001b[31m54.7 MB/s\u001b[0m eta \u001b[36m0:00:00\u001b[0m\n",
            "\u001b[2K   \u001b[90m━━━━━━━━━━━━━━━━━━━━━━━━━━━━━━━━━━━━━━━━\u001b[0m \u001b[32m6.9/6.9 MB\u001b[0m \u001b[31m65.0 MB/s\u001b[0m eta \u001b[36m0:00:00\u001b[0m\n",
            "\u001b[?25h"
          ]
        }
      ],
      "source": [
        "# Importar bibliotecas\n",
        "!pip install streamlit pandas scikit-learn matplotlib seaborn ngrok plotly -q\n",
        "!pip install gdown -q"
      ]
    },
    {
      "cell_type": "code",
      "source": [
        "# Instalar ngrok\n",
        "!pip install pyngrok -q"
      ],
      "metadata": {
        "id": "CrrBkn0PaDg2"
      },
      "execution_count": 2,
      "outputs": []
    },
    {
      "cell_type": "code",
      "source": [
        "#ngrok authtoken\n",
        "from pyngrok import ngrok\n",
        "\n",
        "ngrok.set_auth_token(\"32fC9v0ZoeGXloMgEvNOfj7xHzb_6csCZ9keAKtTLpnEFwfoA\")"
      ],
      "metadata": {
        "id": "j6sWolYAcmvL",
        "outputId": "a5a38174-0658-4796-ffff-752f97cbc04c",
        "colab": {
          "base_uri": "https://localhost:8080/"
        }
      },
      "execution_count": 3,
      "outputs": [
        {
          "output_type": "stream",
          "name": "stdout",
          "text": []
        }
      ]
    },
    {
      "cell_type": "code",
      "source": [
        "#1 - Baixar o CSV automaticamente\n",
        "print(\" Baixando dados do Google Drive...\")\n",
        "!gdown --id 1-m-AWpCYPi1_pZIDWzDaCJw6EyFoCewy\n",
        "!gdown --id 1Es5eWXieu1P_oCdUTqz1JG79kvbpzpcc\n",
        "\n",
        "print(\" Dados baixados!\\n\")"
      ],
      "metadata": {
        "colab": {
          "base_uri": "https://localhost:8080/"
        },
        "id": "b9HVng6naImm",
        "outputId": "06578deb-e90a-464f-8bc5-bd153e4a2b6a"
      },
      "execution_count": 4,
      "outputs": [
        {
          "output_type": "stream",
          "name": "stdout",
          "text": [
            " Baixando dados do Google Drive...\n",
            "/usr/local/lib/python3.12/dist-packages/gdown/__main__.py:140: FutureWarning: Option `--id` was deprecated in version 4.3.1 and will be removed in 5.0. You don't need to pass it anymore to use a file ID.\n",
            "  warnings.warn(\n",
            "Downloading...\n",
            "From (original): https://drive.google.com/uc?id=1-m-AWpCYPi1_pZIDWzDaCJw6EyFoCewy\n",
            "From (redirected): https://drive.google.com/uc?id=1-m-AWpCYPi1_pZIDWzDaCJw6EyFoCewy&confirm=t&uuid=2ec65bb3-4c2e-49c7-a995-e414feeb2603\n",
            "To: /content/df_t_MODIFICADO.csv\n",
            "100% 152M/152M [00:01<00:00, 85.6MB/s]\n",
            "/usr/local/lib/python3.12/dist-packages/gdown/__main__.py:140: FutureWarning: Option `--id` was deprecated in version 4.3.1 and will be removed in 5.0. You don't need to pass it anymore to use a file ID.\n",
            "  warnings.warn(\n",
            "Downloading...\n",
            "From: https://drive.google.com/uc?id=1Es5eWXieu1P_oCdUTqz1JG79kvbpzpcc\n",
            "To: /content/ClickBus_logo.png\n",
            "100% 10.7k/10.7k [00:00<00:00, 34.1MB/s]\n",
            " Dados baixados!\n",
            "\n"
          ]
        }
      ]
    },
    {
      "cell_type": "code",
      "source": [
        "#2 - Verificar os dados\n",
        "import pandas as pd\n",
        "try:\n",
        "    df = pd.read_csv('df_t_MODIFICADO.csv')\n",
        "    print(f\"Dataset carregado: {df.shape[0]} linhas × {df.shape[1]} colunas\")\n",
        "except Exception as e:\n",
        "    print(f\"Erro ao ler o CSV: {e}\")\n",
        "    raise"
      ],
      "metadata": {
        "colab": {
          "base_uri": "https://localhost:8080/"
        },
        "id": "AU42A-aHaLTy",
        "outputId": "82a60aa6-6144-4d7a-a664-94e27095635b"
      },
      "execution_count": 5,
      "outputs": [
        {
          "output_type": "stream",
          "name": "stdout",
          "text": [
            "Dataset carregado: 1741344 linhas × 12 colunas\n"
          ]
        }
      ]
    },
    {
      "cell_type": "code",
      "source": [
        "#3 - Baixar o script do GitHub\n",
        "import requests\n",
        "url = \"https://raw.githubusercontent.com/PedroHiro123/Trabalho_Pred2Track/main/CLICKBUS_Dashboard_PREV_COMPRA_v1.py\"\n",
        "response = requests.get(url)\n",
        "if response.status_code == 200:\n",
        "    with open(\"dashboard.py\", \"w\", encoding=\"utf-8\") as f:\n",
        "        f.write(response.text)\n",
        "    print(\"Código do dashboard baixado!\")\n",
        "else:\n",
        "    print(f\"Falha ao baixar o código (status: {response.status_code})\")\n",
        "    raise Exception(\"Não foi possível baixar o arquivo .py do GitHub\")"
      ],
      "metadata": {
        "id": "WF6OSxVnae9F",
        "outputId": "e81a0c52-0c5a-4d78-8b29-317dbb40a6c8",
        "colab": {
          "base_uri": "https://localhost:8080/"
        }
      },
      "execution_count": 6,
      "outputs": [
        {
          "output_type": "stream",
          "name": "stdout",
          "text": [
            "Código do dashboard baixado!\n"
          ]
        }
      ]
    },
    {
      "cell_type": "code",
      "source": [
        "#4 - Executar o Streamlit em segundo plano\n",
        "get_ipython().system('nohup streamlit run dashboard.py --server.port=8501 --server.address=0.0.0.0 > streamlit.log 2>&1 &')\n",
        "print(\"Streamlit iniciado em segundo plano. Verifique o arquivo 'streamlit.log' para a saída.\")"
      ],
      "metadata": {
        "colab": {
          "base_uri": "https://localhost:8080/"
        },
        "id": "mr46pAyDahkk",
        "outputId": "d4bfed57-5073-409c-a711-69de4a179b98"
      },
      "execution_count": 7,
      "outputs": [
        {
          "output_type": "stream",
          "name": "stdout",
          "text": [
            "Streamlit iniciado em segundo plano. Verifique o arquivo 'streamlit.log' para a saída.\n"
          ]
        }
      ]
    },
    {
      "cell_type": "code",
      "source": [
        "# Iniciar o túnel ngrok\n",
        "from pyngrok import ngrok\n",
        "import os\n",
        "\n",
        "public_url = ngrok.connect(8501)\n",
        "print(f\"Túnel ngrok criado. Acesse o dashboard aqui: {public_url}\")\n",
        "\n",
        "# Mantenha esta célula em execução para manter o túnel ativo.\n",
        "# Para parar o túnel, interrompa a execução desta célula."
      ],
      "metadata": {
        "colab": {
          "base_uri": "https://localhost:8080/"
        },
        "id": "T2bQ5zg1aiZO",
        "outputId": "7496217b-ec04-4342-fabc-8697b367e03b"
      },
      "execution_count": 8,
      "outputs": [
        {
          "output_type": "stream",
          "name": "stdout",
          "text": [
            "Túnel ngrok criado. Acesse o dashboard aqui: NgrokTunnel: \"https://4786ce3b209e.ngrok-free.app\" -> \"http://localhost:8501\"\n"
          ]
        }
      ]
    }
  ]
}